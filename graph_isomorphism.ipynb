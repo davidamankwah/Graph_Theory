{
 "cells": [
  {
   "attachments": {
    "image.png": {
     "image/png": "[encoded data removed]"
    }
   },
   "cell_type": "markdown",
   "metadata": {},
   "source": [
    "# Graph Isomorphism\n",
    "\n",
    "by David Amankwah\n",
    "\n",
    "Student Number: G00394825\n",
    "\n",
    "<h2>Introduction</h2>\n",
    "Before comprehending the graph ismorpism problem, let's first define graph.\n",
    "Graph Theory is a very popular subject in computer science. Graph theory concerns the relationsip of edges and vertices. A graph is made up of a collection of nodes or vertices that are linked together by a collection of edges. In the disciplines of mathematics, engineering, and computer science, the study of graphs is essential. Graph exist in many forms having similar number of vertices, edges and edge connectivity. These are called graph ismorphic graphs. Now let's talk about the graph isomorphism problem. \n",
    "\n",
    "\n",
    "\n",
    "\n",
    "\n",
    "![image.png](attachment:image.png)\n",
    "\n",
    "This graph's 12 vertices and 14 edges are shown in the diagram above.  \n",
    "\n",
    "<h2>Graph Isomorphism Problem Definition</h2>\n",
    "Graphs can be isomorphic when the number of vertices and edges are similar, or They maintain their edge connectivity.\n",
    "\n",
    "Deciding whether two graphs are identical, or isomorphic, is a classical algorithmic problem that has been studied since the early days of computing. Applications can be found in many various fields, such as computer vision and chemistry.\n",
    "\n",
    "The computational challenge of finding out if two finite graphs are isomorphic is known as the graph isomorphism problem. The problem appears to have no polynomial-time solution and to be NP-complete, putting it in the category of computational complexity known as NP-intermediate. The graph isomorphism problem is in the low hierarchy of class NP, which means it is not NP-complete unless the polynomial time hierarchy falls to its second level.\n",
    "\n",
    "Isomorphism can be a mapping which includes inverse mapping. There is also a description of equivalence. A couple of vertices linked by edges are adjacent. In the context of graph, a bijection maintains an adjacent that is referred by isomorphism. A bijection maps from one to the other and from the other back to the one. A well organized graph isomorphism algorithm could make an impact on fields like pattern recognition, computer vision and matching. \n",
    "\n",
    "## Complexity classes\n",
    "In the theory of computational complexity, Complexity classes get defined with granular sets of complexity classes called DTIME, NTIME, DSPACE and NSPACE using big O notion. These computational problems are used for time complexity and space complexity. Polynomial time and NP are two complexity classes for time and space complexity. The Graph Ismorphism problem is known to be a NP problem.\n",
    "\n",
    "Since the graph isomorphism problem is neither in the class polynomial nor NP-complete, it is considered NP-intermediate. An NP-intermediate problem is in NP (\"yes\" answers are verified in polynomial time). It is not in polynomial, no polynomial-time algorithm can solve the problem. It is also not NP complete.\n",
    "\n",
    "It is a clear difference between the class of problems that are efficiently solvable and the class of problems whose solutions are merely efficiently checkable, polynomial and NP are actually at the center of one of the most popular unsolved problems in computer science. polynomial is a subset of NP, but it is not known whether NP is strictly larger than polynomial. polynomial problems are usually fast for a computer to solve. NP problems are also quick and simple to allow computer to check, but they are difficult to solve.\n",
    "\n",
    "In the event that P = NP, the nondeterminism give no additional computational power over determinism with regards to the ability to quickly find a solution to a problem. Furthermore, it would follow that if there exists a proof for a problem instance and that proof can be quickly be checked for correctness (that is, if the problem is in NP).\n"
   ]
  },
  {
   "attachments": {},
   "cell_type": "markdown",
   "metadata": {},
   "source": [
    "## Implementation of the Graph Isomorphism\n",
    "There are various algorithms to solve graph ismorphism problem. However, there are no efficient algorithms knwon. We know graph ismorphism problem ask whether two given graphs are isomorphic. The code below is a simple implementation of the graph isomorphism problem in Python using the NetworkX library"
   ]
  },
  {
   "cell_type": "code",
   "execution_count": 1,
   "metadata": {},
   "outputs": [],
   "source": [
    "import networkx as nx\n",
    "\n",
    "def is_isomorphic(G1, G2):\n",
    "    \"\"\"Checks if two graphs G1 and G2 are isomorphic\"\"\"\n",
    "    if len(G1) != len(G2):\n",
    "        return False\n",
    "\n",
    "    # Check possible node mappings\n",
    "    for perm in nx.algorithms.isomorphism.faster_could_be_isomorphic(G1, G2):\n",
    "        if nx.is_isomorphic(G1, G2, node_match=lambda n1, n2: n1['color'] == n2['color'], edge_match=lambda e1, e2: e1['weight'] == e2['weight'], node_compat_fn=lambda n1, n2: True, edge_compat_fn=lambda e1, e2: True, node_match_name=None, edge_match_name=None, require_iso=False, custom_label=None, tolerance=None, return_node_mapping=True):\n",
    "            return True\n",
    "\n",
    "    return False\n"
   ]
  },
  {
   "attachments": {},
   "cell_type": "markdown",
   "metadata": {},
   "source": [
    "The graph ismorphism implementation above use a NetworkX library to create possible vertice mappings between two graphs, and the try each one for isomorphism using \"is_isomorphic\" function. The \"node_match\" and \"edge_match\" parameters get certain vertice and edge attribute matching methods, while \"node_compat_fn\" and \"edge_compat_fn\" parameters get the certain vertice and edge compatibility methods. \n",
    "\n",
    "We must know this graph ismorphism implementation is not efficient for big graphs, as it tries every vertice mapping. It can still be good for small graphs."
   ]
  },
  {
   "attachments": {},
   "cell_type": "markdown",
   "metadata": {},
   "source": [
    "<h2>References</h2>\n",
    "https://www.tutorialspoint.com/graph_theory/graph_theory_introduction.htm\n",
    "\n",
    "https://www.researchgate.net/figure/A-graph-G-on-12-vertices-and-14-edges_fig3_340856393\n",
    "\n",
    "https://www.tutorialspoint.com/graph_theory/graph_theory_isomorphism.htm\n",
    "\n",
    "https://en.wikipedia.org/wiki/Graph_isomorphism_problem\n",
    "\n",
    "https://cacm.acm.org/magazines/2020/11/248220-the-graph-isomorphism-problem/abstract\n",
    "\n",
    "https://en.wikipedia.org/wiki/Complexity_class\n",
    "\n",
    "https://stackoverflow.com/questions/40773886/what-are-np-intermediate-problems/40773945#40773945\n",
    "\n",
    "https://networkx.org/documentation/stable/reference/algorithms/generated/networkx.algorithms.isomorphism.is_isomorphic.html"
   ]
  }
 ],
 "metadata": {
  "kernelspec": {
   "display_name": "Python 3",
   "language": "python",
   "name": "python3"
  },
  "language_info": {
   "codemirror_mode": {
    "name": "ipython",
    "version": 3
   },
   "file_extension": ".py",
   "mimetype": "text/x-python",
   "name": "python",
   "nbconvert_exporter": "python",
   "pygments_lexer": "ipython3",
   "version": "3.11.2"
  },
  "orig_nbformat": 4,
  "vscode": {
   "interpreter": {
    "hash": "5238573367df39f7286bb46f9ff5f08f63a01a80960060ce41e3c79b190280fa"
   }
  }
 },
 "nbformat": 4,
 "nbformat_minor": 2
}
