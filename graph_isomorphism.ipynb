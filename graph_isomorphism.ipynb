{
 "cells": [
  {
   "attachments": {},
   "cell_type": "markdown",
   "metadata": {},
   "source": [
    "<h1>Graph Isomorphism</h1>\n",
    "\n",
    "David Amankwah\n",
    "\n",
    "<h2>Introduction</h2>\n",
    "Graph Theory is a very popular subject in computer science. Graph theory concerns the relationsip of edges and vertices. Graph exist in many forms having similar number of vertices, edges and edge connectivity. These are called graph ismorphic graphs.\n",
    "  \n",
    "\n",
    "\n",
    "References\n",
    "https://www.tutorialspoint.com/graph_theory/graph_theory_introduction.htm"
   ]
  }
 ],
 "metadata": {
  "kernelspec": {
   "display_name": "Python 3",
   "language": "python",
   "name": "python3"
  },
  "language_info": {
   "codemirror_mode": {
    "name": "ipython",
    "version": 3
   },
   "file_extension": ".py",
   "mimetype": "text/x-python",
   "name": "python",
   "nbconvert_exporter": "python",
   "pygments_lexer": "ipython3",
   "version": "3.10.7"
  },
  "orig_nbformat": 4,
  "vscode": {
   "interpreter": {
    "hash": "369f2c481f4da34e4445cda3fffd2e751bd1c4d706f27375911949ba6bb62e1c"
   }
  }
 },
 "nbformat": 4,
 "nbformat_minor": 2
}
